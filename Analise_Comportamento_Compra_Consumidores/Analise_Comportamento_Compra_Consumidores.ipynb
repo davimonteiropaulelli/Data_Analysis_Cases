{
 "cells": [
  {
   "cell_type": "markdown",
   "metadata": {},
   "source": [
    "# Missão: Analisar o Comportamento de Compra de Consumidores."
   ]
  },
  {
   "cell_type": "markdown",
   "metadata": {},
   "source": [
    "Você recebeu a tarefa de analisar os dados de compras de um web site! Os dados estão no formato JSON e disponíveis junto com este notebook.\n",
    "\n",
    "No site, cada usuário efetua login usando sua conta pessoal e pode adquirir produtos à medida que navega pela lista de produtos oferecidos. Cada produto possui um valor de venda. Dados de idade e sexo de cada usuário foram coletados e estão fornecidos no arquivo JSON.\n",
    "\n",
    "Seu trabalho é entregar uma análise de comportamento de compra dos consumidores. Esse é um tipo de atividade comum realizado por Cientistas de Dados e o resultado deste trabalho pode ser usado, por exemplo, para alimentar um modelo de Machine Learning e fazer previsões sobre comportamentos futuros.\n",
    "\n",
    "Mas nesta missão você vai analisar o comportamento de compra dos consumidores usando o pacote Pandas da linguagem Python e seu relatório final deve incluir cada um dos seguintes itens:\n",
    "\n",
    "** Contagem de Compradores **\n",
    "\n",
    "* Número total de compradores\n",
    "\n",
    "\n",
    "** Análise Geral de Compras **\n",
    "\n",
    "* Número de itens exclusivos\n",
    "* Preço médio de compra\n",
    "* Número total de compras\n",
    "* Rendimento total\n",
    "\n",
    "\n",
    "** Informações Demográficas Por Gênero **\n",
    "\n",
    "* Porcentagem e contagem de compradores masculinos\n",
    "* Porcentagem e contagem de compradores do sexo feminino\n",
    "* Porcentagem e contagem de outros / não divulgados\n",
    "\n",
    "\n",
    "** Análise de Compras Por Gênero **\n",
    "\n",
    "* Número de compras\n",
    "* Preço médio de compra\n",
    "* Valor Total de Compra\n",
    "* Compras for faixa etária\n",
    "\n",
    "\n",
    "** Identifique os 5 principais compradores pelo valor total de compra e, em seguida, liste (em uma tabela): **\n",
    "\n",
    "* Login\n",
    "* Número de compras\n",
    "* Preço médio de compra\n",
    "* Valor Total de Compra\n",
    "* Itens mais populares\n",
    "\n",
    "\n",
    "** Identifique os 5 itens mais populares por contagem de compras e, em seguida, liste (em uma tabela): **\n",
    "\n",
    "* ID do item\n",
    "* Nome do item\n",
    "* Número de compras\n",
    "* Preço do item\n",
    "* Valor Total de Compra\n",
    "* Itens mais lucrativos\n",
    "\n",
    "\n",
    "** Identifique os 5 itens mais lucrativos pelo valor total de compra e, em seguida, liste (em uma tabela): **\n",
    "\n",
    "* ID do item\n",
    "* Nome do item\n",
    "* Número de compras\n",
    "* Preço do item\n",
    "* Valor Total de Compra\n",
    "\n",
    "\n",
    "** Como considerações finais: **\n",
    "\n",
    "* Seu script deve funcionar para o conjunto de dados fornecido.\n",
    "* Você deve usar a Biblioteca Pandas e o Jupyter Notebook.\n"
   ]
  },
  {
   "cell_type": "code",
   "execution_count": 1,
   "metadata": {},
   "outputs": [],
   "source": [
    "# Importando bibliotecas\n",
    "import pandas as pd\n",
    "import numpy as np\n",
    "import seaborn as sns\n",
    "import matplotlib as mat\n",
    "import matplotlib.pyplot as plt\n",
    "%matplotlib inline"
   ]
  },
  {
   "cell_type": "code",
   "execution_count": 2,
   "metadata": {},
   "outputs": [
    {
     "data": {
      "text/html": [
       "<div>\n",
       "<style scoped>\n",
       "    .dataframe tbody tr th:only-of-type {\n",
       "        vertical-align: middle;\n",
       "    }\n",
       "\n",
       "    .dataframe tbody tr th {\n",
       "        vertical-align: top;\n",
       "    }\n",
       "\n",
       "    .dataframe thead th {\n",
       "        text-align: right;\n",
       "    }\n",
       "</style>\n",
       "<table border=\"1\" class=\"dataframe\">\n",
       "  <thead>\n",
       "    <tr style=\"text-align: right;\">\n",
       "      <th></th>\n",
       "      <th>Login</th>\n",
       "      <th>Idade</th>\n",
       "      <th>Sexo</th>\n",
       "      <th>Item ID</th>\n",
       "      <th>Nome do Item</th>\n",
       "      <th>Valor</th>\n",
       "    </tr>\n",
       "  </thead>\n",
       "  <tbody>\n",
       "    <tr>\n",
       "      <th>0</th>\n",
       "      <td>Aelalis34</td>\n",
       "      <td>38</td>\n",
       "      <td>Masculino</td>\n",
       "      <td>164</td>\n",
       "      <td>Bone Crushing Silver Skewer</td>\n",
       "      <td>3.37</td>\n",
       "    </tr>\n",
       "    <tr>\n",
       "      <th>1</th>\n",
       "      <td>Eolo46</td>\n",
       "      <td>21</td>\n",
       "      <td>Masculino</td>\n",
       "      <td>119</td>\n",
       "      <td>Stormbringer, Dark Blade of Ending Misery</td>\n",
       "      <td>2.32</td>\n",
       "    </tr>\n",
       "    <tr>\n",
       "      <th>2</th>\n",
       "      <td>Assastnya25</td>\n",
       "      <td>34</td>\n",
       "      <td>Masculino</td>\n",
       "      <td>174</td>\n",
       "      <td>Primitive Blade</td>\n",
       "      <td>2.46</td>\n",
       "    </tr>\n",
       "    <tr>\n",
       "      <th>3</th>\n",
       "      <td>Pheusrical25</td>\n",
       "      <td>21</td>\n",
       "      <td>Masculino</td>\n",
       "      <td>92</td>\n",
       "      <td>Final Critic</td>\n",
       "      <td>1.36</td>\n",
       "    </tr>\n",
       "    <tr>\n",
       "      <th>4</th>\n",
       "      <td>Aela59</td>\n",
       "      <td>23</td>\n",
       "      <td>Masculino</td>\n",
       "      <td>63</td>\n",
       "      <td>Stormfury Mace</td>\n",
       "      <td>1.27</td>\n",
       "    </tr>\n",
       "  </tbody>\n",
       "</table>\n",
       "</div>"
      ],
      "text/plain": [
       "          Login  Idade       Sexo  Item ID  \\\n",
       "0     Aelalis34     38  Masculino      164   \n",
       "1        Eolo46     21  Masculino      119   \n",
       "2   Assastnya25     34  Masculino      174   \n",
       "3  Pheusrical25     21  Masculino       92   \n",
       "4        Aela59     23  Masculino       63   \n",
       "\n",
       "                                Nome do Item  Valor  \n",
       "0                Bone Crushing Silver Skewer   3.37  \n",
       "1  Stormbringer, Dark Blade of Ending Misery   2.32  \n",
       "2                            Primitive Blade   2.46  \n",
       "3                               Final Critic   1.36  \n",
       "4                             Stormfury Mace   1.27  "
      ]
     },
     "execution_count": 2,
     "metadata": {},
     "output_type": "execute_result"
    }
   ],
   "source": [
    "# Carregando o arquivo\n",
    "load_file = \"dados_compras.json\"\n",
    "purchase_file = pd.read_json(load_file, orient = \"records\")\n",
    "purchase_file.head()"
   ]
  },
  {
   "cell_type": "markdown",
   "metadata": {},
   "source": [
    "## Informações Sobre os Compradores"
   ]
  },
  {
   "cell_type": "code",
   "execution_count": 3,
   "metadata": {},
   "outputs": [
    {
     "data": {
      "text/html": [
       "<div>\n",
       "<style scoped>\n",
       "    .dataframe tbody tr th:only-of-type {\n",
       "        vertical-align: middle;\n",
       "    }\n",
       "\n",
       "    .dataframe tbody tr th {\n",
       "        vertical-align: top;\n",
       "    }\n",
       "\n",
       "    .dataframe thead th {\n",
       "        text-align: right;\n",
       "    }\n",
       "</style>\n",
       "<table border=\"1\" class=\"dataframe\">\n",
       "  <thead>\n",
       "    <tr style=\"text-align: right;\">\n",
       "      <th></th>\n",
       "      <th>Sexo</th>\n",
       "      <th>Login</th>\n",
       "      <th>Idade</th>\n",
       "    </tr>\n",
       "  </thead>\n",
       "  <tbody>\n",
       "    <tr>\n",
       "      <th>0</th>\n",
       "      <td>Masculino</td>\n",
       "      <td>Aelalis34</td>\n",
       "      <td>38</td>\n",
       "    </tr>\n",
       "    <tr>\n",
       "      <th>1</th>\n",
       "      <td>Masculino</td>\n",
       "      <td>Eolo46</td>\n",
       "      <td>21</td>\n",
       "    </tr>\n",
       "    <tr>\n",
       "      <th>2</th>\n",
       "      <td>Masculino</td>\n",
       "      <td>Assastnya25</td>\n",
       "      <td>34</td>\n",
       "    </tr>\n",
       "    <tr>\n",
       "      <th>3</th>\n",
       "      <td>Masculino</td>\n",
       "      <td>Pheusrical25</td>\n",
       "      <td>21</td>\n",
       "    </tr>\n",
       "    <tr>\n",
       "      <th>4</th>\n",
       "      <td>Masculino</td>\n",
       "      <td>Aela59</td>\n",
       "      <td>23</td>\n",
       "    </tr>\n",
       "  </tbody>\n",
       "</table>\n",
       "</div>"
      ],
      "text/plain": [
       "        Sexo         Login  Idade\n",
       "0  Masculino     Aelalis34     38\n",
       "1  Masculino        Eolo46     21\n",
       "2  Masculino   Assastnya25     34\n",
       "3  Masculino  Pheusrical25     21\n",
       "4  Masculino        Aela59     23"
      ]
     },
     "execution_count": 3,
     "metadata": {},
     "output_type": "execute_result"
    }
   ],
   "source": [
    "player_demographics = purchase_file.loc[:, [\"Sexo\", \"Login\", \"Idade\"]]\n",
    "player_demographics.head()"
   ]
  },
  {
   "cell_type": "code",
   "execution_count": 4,
   "metadata": {},
   "outputs": [
    {
     "data": {
      "text/plain": [
       "573"
      ]
     },
     "execution_count": 4,
     "metadata": {},
     "output_type": "execute_result"
    }
   ],
   "source": [
    "# Limpeza dos dados e remoção de duplicatas\n",
    "player_demographics = player_demographics.drop_duplicates()\n",
    "player_count = player_demographics.count()[0]\n",
    "player_count"
   ]
  },
  {
   "cell_type": "code",
   "execution_count": 5,
   "metadata": {},
   "outputs": [
    {
     "data": {
      "text/html": [
       "<div>\n",
       "<style scoped>\n",
       "    .dataframe tbody tr th:only-of-type {\n",
       "        vertical-align: middle;\n",
       "    }\n",
       "\n",
       "    .dataframe tbody tr th {\n",
       "        vertical-align: top;\n",
       "    }\n",
       "\n",
       "    .dataframe thead th {\n",
       "        text-align: right;\n",
       "    }\n",
       "</style>\n",
       "<table border=\"1\" class=\"dataframe\">\n",
       "  <thead>\n",
       "    <tr style=\"text-align: right;\">\n",
       "      <th></th>\n",
       "      <th>Total de Jogadores</th>\n",
       "    </tr>\n",
       "  </thead>\n",
       "  <tbody>\n",
       "    <tr>\n",
       "      <th>0</th>\n",
       "      <td>573</td>\n",
       "    </tr>\n",
       "  </tbody>\n",
       "</table>\n",
       "</div>"
      ],
      "text/plain": [
       "   Total de Jogadores\n",
       "0                 573"
      ]
     },
     "execution_count": 5,
     "metadata": {},
     "output_type": "execute_result"
    }
   ],
   "source": [
    "# Converter saída para DF para uso posterior em análise\n",
    "pd.DataFrame({\"Total de Jogadores\" : [player_count]})"
   ]
  },
  {
   "cell_type": "markdown",
   "metadata": {},
   "source": [
    "## Análise de Compra"
   ]
  },
  {
   "cell_type": "code",
   "execution_count": 6,
   "metadata": {},
   "outputs": [
    {
     "data": {
      "text/html": [
       "<div>\n",
       "<style scoped>\n",
       "    .dataframe tbody tr th:only-of-type {\n",
       "        vertical-align: middle;\n",
       "    }\n",
       "\n",
       "    .dataframe tbody tr th {\n",
       "        vertical-align: top;\n",
       "    }\n",
       "\n",
       "    .dataframe thead th {\n",
       "        text-align: right;\n",
       "    }\n",
       "</style>\n",
       "<table border=\"1\" class=\"dataframe\">\n",
       "  <thead>\n",
       "    <tr style=\"text-align: right;\">\n",
       "      <th></th>\n",
       "      <th>Número de Itens Únicos</th>\n",
       "      <th>Preço Médio</th>\n",
       "      <th>Número de Compras</th>\n",
       "      <th>Total de Vendas</th>\n",
       "    </tr>\n",
       "  </thead>\n",
       "  <tbody>\n",
       "    <tr>\n",
       "      <th>0</th>\n",
       "      <td>183</td>\n",
       "      <td>$2.93</td>\n",
       "      <td>780</td>\n",
       "      <td>$2,286.33</td>\n",
       "    </tr>\n",
       "  </tbody>\n",
       "</table>\n",
       "</div>"
      ],
      "text/plain": [
       "   Número de Itens Únicos Preço Médio  Número de Compras Total de Vendas\n",
       "0                     183       $2.93                780       $2,286.33"
      ]
     },
     "execution_count": 6,
     "metadata": {},
     "output_type": "execute_result"
    }
   ],
   "source": [
    "# Cálculos básicos\n",
    "average_item_price = purchase_file[\"Valor\"].mean()\n",
    "total_item_price = purchase_file[\"Valor\"].sum()\n",
    "total_item_count = purchase_file[\"Valor\"].count()\n",
    "item_id = len(purchase_file[\"Item ID\"].unique())\n",
    "\n",
    "# Dataframe para os resultados\n",
    "summary_calculations = pd.DataFrame({\"Número de Itens Únicos\" : item_id,\n",
    "                                     \"Número de Compras\" : total_item_count, \n",
    "                                     \"Total de Vendas\" : total_item_price, \n",
    "                                     \"Preço Médio\" : [average_item_price]})\n",
    "\n",
    "# Data Munging\n",
    "summary_calculations = summary_calculations.round(2)\n",
    "summary_calculations [\"Preço Médio\"] = summary_calculations[\"Preço Médio\"].map(\"${:,.2f}\".format)\n",
    "summary_calculations [\"Total de Vendas\"] = summary_calculations[\"Total de Vendas\"].map(\"${:,.2f}\".format)\n",
    "summary_calculations = summary_calculations.loc[:, [\"Número de Itens Únicos\", \"Preço Médio\", \"Número de Compras\", \"Total de Vendas\"]]\n",
    "\n",
    "summary_calculations"
   ]
  },
  {
   "cell_type": "code",
   "execution_count": 7,
   "metadata": {},
   "outputs": [
    {
     "data": {
      "text/plain": [
       "array([164, 119, 174,  92,  63,  10, 153, 169, 118,  99,  57,  47,  81,\n",
       "        77,  44,  96, 123,  59,  91, 177,  78,   3,  11, 183,  65, 132,\n",
       "       106,  49,  45, 155,  37,  48,  90,  13, 171,  25,   7, 124,  68,\n",
       "        85, 120,  17, 141,  73, 151,  32, 165,  51, 101, 140,  31,  34,\n",
       "         2,  86,  39,  28, 160, 134,  83,  38, 158, 110, 122,  54, 105,\n",
       "        87,  23, 144, 128, 175,  46, 150, 152, 108, 172, 167, 181,  20,\n",
       "       130, 111, 103,  30, 139, 173,  55, 115,  35,  42,   9,  84, 180,\n",
       "       102,  53,  18,  74, 126,  50,  62, 125, 121, 129, 149,  12,  71,\n",
       "        14,  58,  27,  52,  66, 100, 112,  24,  94, 107,   0, 182,  97,\n",
       "        70,  89,   1, 170,  93, 179,  36,  75, 143, 137, 176, 148, 127,\n",
       "       147, 161, 154, 157, 116,  61, 131,  41, 145,  60, 162, 135,   8,\n",
       "        40,  15,  29,  72, 114, 117,  79,  88, 104,  95,  64,  98,  33,\n",
       "        76, 146, 166,  56,  22,  21,  16,  67, 133,  69, 159,  82, 113,\n",
       "         6, 163,   5,  19, 168, 136,  80,  26, 142, 178, 156, 109,  43,\n",
       "         4])"
      ]
     },
     "execution_count": 7,
     "metadata": {},
     "output_type": "execute_result"
    }
   ],
   "source": [
    "#Observacao de cada um dos ID_itens\n",
    "purchase_file[\"Item ID\"].unique()"
   ]
  },
  {
   "cell_type": "code",
   "execution_count": 8,
   "metadata": {},
   "outputs": [
    {
     "data": {
      "image/png": "[encoded data removed]",
      "text/plain": [
       "<Figure size 1440x720 with 1 Axes>"
      ]
     },
     "metadata": {
      "needs_background": "light"
     },
     "output_type": "display_data"
    }
   ],
   "source": [
    "#Contagem de Cada item vendido\n",
    "fig, ax = plt.subplots(figsize=(20,10))\n",
    "sns.countplot(purchase_file[\"Item ID\"])\n",
    "plt.xlabel('Item ID', fontsize=20)\n",
    "plt.ylabel('Contagem', fontsize=20)\n",
    "plt.show()"
   ]
  },
  {
   "cell_type": "markdown",
   "metadata": {},
   "source": [
    "## Informações Demográficas"
   ]
  },
  {
   "cell_type": "code",
   "execution_count": 9,
   "metadata": {},
   "outputs": [],
   "source": [
    "# Cálculos básicos\n",
    "gender_count = player_demographics[\"Sexo\"].value_counts()\n",
    "gender_percent = (gender_count / player_count) * 100\n",
    "\n",
    "# Dataframe para os resultados\n",
    "gender_demographics = pd.DataFrame({\"Sexo\" : gender_count, \n",
    "                                    \"%\" : gender_percent})\n",
    "\n",
    "# Data Munging\n",
    "gender_demographics = gender_demographics.round(2)\n",
    "gender_demographics [\"%\"] = gender_demographics[\"%\"].map(\"{:,.1f}%\".format)"
   ]
  },
  {
   "cell_type": "code",
   "execution_count": 10,
   "metadata": {},
   "outputs": [
    {
     "data": {
      "text/plain": [
       "Masculino                465\n",
       "Feminino                 100\n",
       "Outro / Não Divulgado      8\n",
       "Name: Sexo, dtype: int64"
      ]
     },
     "execution_count": 10,
     "metadata": {},
     "output_type": "execute_result"
    }
   ],
   "source": [
    "# Output Test\n",
    "gender_count"
   ]
  },
  {
   "cell_type": "code",
   "execution_count": 11,
   "metadata": {},
   "outputs": [
    {
     "name": "stdout",
     "output_type": "stream",
     "text": [
      "                       Sexo      %\n",
      "Masculino               465  81.2%\n",
      "Feminino                100  17.4%\n",
      "Outro / Não Divulgado     8   1.4%\n"
     ]
    },
    {
     "data": {
      "image/png": "[encoded data removed]",
      "text/plain": [
       "<Figure size 432x288 with 1 Axes>"
      ]
     },
     "metadata": {},
     "output_type": "display_data"
    }
   ],
   "source": [
    "# Criando grafico de pizza\n",
    "labels = 'Masculino','Feminino','Outro/Nao_Divulgado'\n",
    "explode = (0, 0.1, 0, 0)\n",
    "fig, ax = plt.subplots()\n",
    "ax.pie(gender_percent, labels=labels, autopct='%1.1f%%',shadow=True, startangle=90)\n",
    "ax.axis('equal')  # A proporção igual garante que a pizza seja desenhada como um círculo.\n",
    "print(gender_demographics)\n",
    "plt.show()"
   ]
  },
  {
   "cell_type": "markdown",
   "metadata": {},
   "source": [
    "## Análise de Compra Por Gênero"
   ]
  },
  {
   "cell_type": "code",
   "execution_count": 12,
   "metadata": {},
   "outputs": [],
   "source": [
    "# Agrupamentos\n",
    "gender_total_item_price = purchase_file.groupby([\"Sexo\"]).sum()[\"Valor\"].rename(\"Total de Vendas\")\n",
    "gender_average_item_price = purchase_file.groupby([\"Sexo\"]).mean()[\"Valor\"].rename(\"Average Price\")\n",
    "purchase_count = purchase_file.groupby([\"Sexo\"]).count()[\"Valor\"].rename(\"Número de Compras\")\n",
    "normalized_total = gender_total_item_price / gender_demographics[\"Sexo\"]\n",
    "\n",
    "# Armazenando o resultado em um Dataframe\n",
    "gender_purchasing_analysis = pd.DataFrame({\"Número de Compras\" : purchase_count, \n",
    "                                           \"Valor Médio Por Item\" : gender_average_item_price, \n",
    "                                           \"Total de Vendas\" : gender_total_item_price, \n",
    "                                           \"Total Normalizado\" : normalized_total})\n",
    "\n",
    "# Data Munging\n",
    "gender_purchasing_analysis = gender_purchasing_analysis.round(2)\n",
    "gender_purchasing_analysis [\"Valor Médio Por Item\"] = gender_purchasing_analysis[\"Valor Médio Por Item\"].map(\"${:,.2f}\".format)\n",
    "gender_purchasing_analysis [\"Total de Vendas\"] = gender_purchasing_analysis[\"Total de Vendas\"].map(\"${:,.2f}\".format)\n",
    "gender_purchasing_analysis [\"Total Normalizado\"] = gender_purchasing_analysis[\"Total Normalizado\"].map(\"${:,.2f}\".format)"
   ]
  },
  {
   "cell_type": "code",
   "execution_count": 13,
   "metadata": {},
   "outputs": [
    {
     "data": {
      "text/plain": [
       "Sexo\n",
       "Feminino                  382.91\n",
       "Masculino                1867.68\n",
       "Outro / Não Divulgado      35.74\n",
       "Name: Total de Vendas, dtype: float64"
      ]
     },
     "execution_count": 13,
     "metadata": {},
     "output_type": "execute_result"
    }
   ],
   "source": [
    "# Resultado\n",
    "gender_total_item_price"
   ]
  },
  {
   "cell_type": "code",
   "execution_count": 14,
   "metadata": {},
   "outputs": [
    {
     "data": {
      "text/plain": [
       "Sexo\n",
       "Feminino                 2.815515\n",
       "Masculino                2.950521\n",
       "Outro / Não Divulgado    3.249091\n",
       "Name: Average Price, dtype: float64"
      ]
     },
     "execution_count": 14,
     "metadata": {},
     "output_type": "execute_result"
    }
   ],
   "source": [
    "# Resultado\n",
    "gender_average_item_price"
   ]
  },
  {
   "cell_type": "code",
   "execution_count": 15,
   "metadata": {
    "scrolled": true
   },
   "outputs": [
    {
     "data": {
      "text/plain": [
       "Feminino                 3.829100\n",
       "Masculino                4.016516\n",
       "Outro / Não Divulgado    4.467500\n",
       "dtype: float64"
      ]
     },
     "execution_count": 15,
     "metadata": {},
     "output_type": "execute_result"
    }
   ],
   "source": [
    "# Resultado\n",
    "normalized_total"
   ]
  },
  {
   "cell_type": "code",
   "execution_count": 16,
   "metadata": {},
   "outputs": [
    {
     "data": {
      "text/html": [
       "<div>\n",
       "<style scoped>\n",
       "    .dataframe tbody tr th:only-of-type {\n",
       "        vertical-align: middle;\n",
       "    }\n",
       "\n",
       "    .dataframe tbody tr th {\n",
       "        vertical-align: top;\n",
       "    }\n",
       "\n",
       "    .dataframe thead th {\n",
       "        text-align: right;\n",
       "    }\n",
       "</style>\n",
       "<table border=\"1\" class=\"dataframe\">\n",
       "  <thead>\n",
       "    <tr style=\"text-align: right;\">\n",
       "      <th></th>\n",
       "      <th>Número de Compras</th>\n",
       "      <th>Valor Médio Por Item</th>\n",
       "      <th>Total de Vendas</th>\n",
       "      <th>Total Normalizado</th>\n",
       "    </tr>\n",
       "    <tr>\n",
       "      <th>Sexo</th>\n",
       "      <th></th>\n",
       "      <th></th>\n",
       "      <th></th>\n",
       "      <th></th>\n",
       "    </tr>\n",
       "  </thead>\n",
       "  <tbody>\n",
       "    <tr>\n",
       "      <th>Feminino</th>\n",
       "      <td>136</td>\n",
       "      <td>$2.82</td>\n",
       "      <td>$382.91</td>\n",
       "      <td>$3.83</td>\n",
       "    </tr>\n",
       "    <tr>\n",
       "      <th>Masculino</th>\n",
       "      <td>633</td>\n",
       "      <td>$2.95</td>\n",
       "      <td>$1,867.68</td>\n",
       "      <td>$4.02</td>\n",
       "    </tr>\n",
       "    <tr>\n",
       "      <th>Outro / Não Divulgado</th>\n",
       "      <td>11</td>\n",
       "      <td>$3.25</td>\n",
       "      <td>$35.74</td>\n",
       "      <td>$4.47</td>\n",
       "    </tr>\n",
       "  </tbody>\n",
       "</table>\n",
       "</div>"
      ],
      "text/plain": [
       "                       Número de Compras Valor Médio Por Item Total de Vendas  \\\n",
       "Sexo                                                                            \n",
       "Feminino                             136                $2.82         $382.91   \n",
       "Masculino                            633                $2.95       $1,867.68   \n",
       "Outro / Não Divulgado                 11                $3.25          $35.74   \n",
       "\n",
       "                      Total Normalizado  \n",
       "Sexo                                     \n",
       "Feminino                          $3.83  \n",
       "Masculino                         $4.02  \n",
       "Outro / Não Divulgado             $4.47  "
      ]
     },
     "execution_count": 16,
     "metadata": {},
     "output_type": "execute_result"
    }
   ],
   "source": [
    "# Resultado\n",
    "gender_purchasing_analysis"
   ]
  },
  {
   "cell_type": "code",
   "execution_count": 17,
   "metadata": {},
   "outputs": [
    {
     "data": {
      "image/png": "[encoded data removed]",
      "text/plain": [
       "<Figure size 576x288 with 1 Axes>"
      ]
     },
     "metadata": {
      "needs_background": "light"
     },
     "output_type": "display_data"
    }
   ],
   "source": [
    "# Grafico Relação Valor Gasto X Sexo\n",
    "plt.figure(figsize=(8,4))\n",
    "plt.title('Relação Valor Gasto X Sexo', fontsize=25)\n",
    "sns.lineplot(x=\"Sexo\", y=\"Valor\",data=purchase_file,color='red')\n",
    "plt.xlabel('Sexo do Comprador', fontsize=20)\n",
    "plt.ylabel('Valor Gasto', fontsize=20)\n",
    "plt.show()"
   ]
  },
  {
   "cell_type": "markdown",
   "metadata": {},
   "source": [
    "## Análise Demográfica"
   ]
  },
  {
   "cell_type": "code",
   "execution_count": 18,
   "metadata": {},
   "outputs": [
    {
     "data": {
      "text/html": [
       "<div>\n",
       "<style scoped>\n",
       "    .dataframe tbody tr th:only-of-type {\n",
       "        vertical-align: middle;\n",
       "    }\n",
       "\n",
       "    .dataframe tbody tr th {\n",
       "        vertical-align: top;\n",
       "    }\n",
       "\n",
       "    .dataframe thead th {\n",
       "        text-align: right;\n",
       "    }\n",
       "</style>\n",
       "<table border=\"1\" class=\"dataframe\">\n",
       "  <thead>\n",
       "    <tr style=\"text-align: right;\">\n",
       "      <th></th>\n",
       "      <th>Sexo</th>\n",
       "      <th>Login</th>\n",
       "      <th>Idade</th>\n",
       "    </tr>\n",
       "  </thead>\n",
       "  <tbody>\n",
       "    <tr>\n",
       "      <th>0</th>\n",
       "      <td>Masculino</td>\n",
       "      <td>Aelalis34</td>\n",
       "      <td>38</td>\n",
       "    </tr>\n",
       "    <tr>\n",
       "      <th>1</th>\n",
       "      <td>Masculino</td>\n",
       "      <td>Eolo46</td>\n",
       "      <td>21</td>\n",
       "    </tr>\n",
       "    <tr>\n",
       "      <th>2</th>\n",
       "      <td>Masculino</td>\n",
       "      <td>Assastnya25</td>\n",
       "      <td>34</td>\n",
       "    </tr>\n",
       "    <tr>\n",
       "      <th>3</th>\n",
       "      <td>Masculino</td>\n",
       "      <td>Pheusrical25</td>\n",
       "      <td>21</td>\n",
       "    </tr>\n",
       "    <tr>\n",
       "      <th>4</th>\n",
       "      <td>Masculino</td>\n",
       "      <td>Aela59</td>\n",
       "      <td>23</td>\n",
       "    </tr>\n",
       "    <tr>\n",
       "      <th>...</th>\n",
       "      <td>...</td>\n",
       "      <td>...</td>\n",
       "      <td>...</td>\n",
       "    </tr>\n",
       "    <tr>\n",
       "      <th>771</th>\n",
       "      <td>Masculino</td>\n",
       "      <td>Lassista97</td>\n",
       "      <td>24</td>\n",
       "    </tr>\n",
       "    <tr>\n",
       "      <th>772</th>\n",
       "      <td>Masculino</td>\n",
       "      <td>Sidap51</td>\n",
       "      <td>15</td>\n",
       "    </tr>\n",
       "    <tr>\n",
       "      <th>773</th>\n",
       "      <td>Masculino</td>\n",
       "      <td>Chamadarsda63</td>\n",
       "      <td>21</td>\n",
       "    </tr>\n",
       "    <tr>\n",
       "      <th>778</th>\n",
       "      <td>Masculino</td>\n",
       "      <td>Quelaton80</td>\n",
       "      <td>20</td>\n",
       "    </tr>\n",
       "    <tr>\n",
       "      <th>779</th>\n",
       "      <td>Feminino</td>\n",
       "      <td>Alim85</td>\n",
       "      <td>23</td>\n",
       "    </tr>\n",
       "  </tbody>\n",
       "</table>\n",
       "<p>573 rows × 3 columns</p>\n",
       "</div>"
      ],
      "text/plain": [
       "          Sexo          Login  Idade\n",
       "0    Masculino      Aelalis34     38\n",
       "1    Masculino         Eolo46     21\n",
       "2    Masculino    Assastnya25     34\n",
       "3    Masculino   Pheusrical25     21\n",
       "4    Masculino         Aela59     23\n",
       "..         ...            ...    ...\n",
       "771  Masculino     Lassista97     24\n",
       "772  Masculino        Sidap51     15\n",
       "773  Masculino  Chamadarsda63     21\n",
       "778  Masculino     Quelaton80     20\n",
       "779   Feminino         Alim85     23\n",
       "\n",
       "[573 rows x 3 columns]"
      ]
     },
     "execution_count": 18,
     "metadata": {},
     "output_type": "execute_result"
    }
   ],
   "source": [
    "player_demographics"
   ]
  },
  {
   "cell_type": "code",
   "execution_count": 19,
   "metadata": {},
   "outputs": [],
   "source": [
    "# Cálculos básicos\n",
    "age_bins = [0, 9.99, 14.99, 19.99, 24.99, 29.99, 34.99, 39.99, 999]\n",
    "age_bracket = [\"Menos de 10\", \"10 a 14\", \"15 a 19\", \"20 a 24\", \"25 a 29\", \"30 a 34\", \"35 a 39\", \"Mais de 40\"]\n",
    "\n",
    "purchase_file[\"Range de Idades\"] = pd.cut(purchase_file[\"Idade\"], age_bins, labels=age_bracket)\n",
    "\n",
    "# Cálculos básicos\n",
    "age_demographics_count = purchase_file[\"Range de Idades\"].value_counts()\n",
    "age_demographics_average_item_price = purchase_file.groupby([\"Range de Idades\"]).mean()[\"Valor\"]\n",
    "age_demographics_total_item_price = purchase_file.groupby([\"Range de Idades\"]).sum()[\"Valor\"]\n",
    "age_demographics_percent = (age_demographics_count / player_count) * 100\n",
    "\n",
    "# Dataframe para os resultados\n",
    "age_demographics = pd.DataFrame({\"Contagem\": age_demographics_count, \"%\": age_demographics_percent, \"Valor Unitario\": age_demographics_average_item_price, \"Valor Total de Compra\": age_demographics_total_item_price})\n",
    "\n",
    "# Data Munging\n",
    "age_demographics [\"Valor Unitario\"] = age_demographics[\"Valor Unitario\"].map(\"${:,.2f}\".format)\n",
    "age_demographics [\"Valor Total de Compra\"] = age_demographics[\"Valor Total de Compra\"].map(\"${:,.2f}\".format)\n",
    "age_demographics [\"%\"] = age_demographics[\"%\"].map(\"{:,.2f}%\".format)"
   ]
  },
  {
   "cell_type": "code",
   "execution_count": 20,
   "metadata": {},
   "outputs": [
    {
     "data": {
      "text/html": [
       "<div>\n",
       "<style scoped>\n",
       "    .dataframe tbody tr th:only-of-type {\n",
       "        vertical-align: middle;\n",
       "    }\n",
       "\n",
       "    .dataframe tbody tr th {\n",
       "        vertical-align: top;\n",
       "    }\n",
       "\n",
       "    .dataframe thead th {\n",
       "        text-align: right;\n",
       "    }\n",
       "</style>\n",
       "<table border=\"1\" class=\"dataframe\">\n",
       "  <thead>\n",
       "    <tr style=\"text-align: right;\">\n",
       "      <th></th>\n",
       "      <th>Sexo</th>\n",
       "      <th>Login</th>\n",
       "      <th>Idade</th>\n",
       "    </tr>\n",
       "  </thead>\n",
       "  <tbody>\n",
       "    <tr>\n",
       "      <th>0</th>\n",
       "      <td>Masculino</td>\n",
       "      <td>Aelalis34</td>\n",
       "      <td>38</td>\n",
       "    </tr>\n",
       "    <tr>\n",
       "      <th>1</th>\n",
       "      <td>Masculino</td>\n",
       "      <td>Eolo46</td>\n",
       "      <td>21</td>\n",
       "    </tr>\n",
       "    <tr>\n",
       "      <th>2</th>\n",
       "      <td>Masculino</td>\n",
       "      <td>Assastnya25</td>\n",
       "      <td>34</td>\n",
       "    </tr>\n",
       "    <tr>\n",
       "      <th>3</th>\n",
       "      <td>Masculino</td>\n",
       "      <td>Pheusrical25</td>\n",
       "      <td>21</td>\n",
       "    </tr>\n",
       "    <tr>\n",
       "      <th>4</th>\n",
       "      <td>Masculino</td>\n",
       "      <td>Aela59</td>\n",
       "      <td>23</td>\n",
       "    </tr>\n",
       "  </tbody>\n",
       "</table>\n",
       "</div>"
      ],
      "text/plain": [
       "        Sexo         Login  Idade\n",
       "0  Masculino     Aelalis34     38\n",
       "1  Masculino        Eolo46     21\n",
       "2  Masculino   Assastnya25     34\n",
       "3  Masculino  Pheusrical25     21\n",
       "4  Masculino        Aela59     23"
      ]
     },
     "execution_count": 20,
     "metadata": {},
     "output_type": "execute_result"
    }
   ],
   "source": [
    "# Resultado\n",
    "player_demographics.head()"
   ]
  },
  {
   "cell_type": "code",
   "execution_count": 21,
   "metadata": {},
   "outputs": [
    {
     "data": {
      "text/html": [
       "<div>\n",
       "<style scoped>\n",
       "    .dataframe tbody tr th:only-of-type {\n",
       "        vertical-align: middle;\n",
       "    }\n",
       "\n",
       "    .dataframe tbody tr th {\n",
       "        vertical-align: top;\n",
       "    }\n",
       "\n",
       "    .dataframe thead th {\n",
       "        text-align: right;\n",
       "    }\n",
       "</style>\n",
       "<table border=\"1\" class=\"dataframe\">\n",
       "  <thead>\n",
       "    <tr style=\"text-align: right;\">\n",
       "      <th></th>\n",
       "      <th>Contagem</th>\n",
       "      <th>%</th>\n",
       "      <th>Valor Unitario</th>\n",
       "      <th>Valor Total de Compra</th>\n",
       "    </tr>\n",
       "  </thead>\n",
       "  <tbody>\n",
       "    <tr>\n",
       "      <th>Menos de 10</th>\n",
       "      <td>28</td>\n",
       "      <td>4.89%</td>\n",
       "      <td>$2.98</td>\n",
       "      <td>$83.46</td>\n",
       "    </tr>\n",
       "    <tr>\n",
       "      <th>10 a 14</th>\n",
       "      <td>35</td>\n",
       "      <td>6.11%</td>\n",
       "      <td>$2.77</td>\n",
       "      <td>$96.95</td>\n",
       "    </tr>\n",
       "    <tr>\n",
       "      <th>15 a 19</th>\n",
       "      <td>133</td>\n",
       "      <td>23.21%</td>\n",
       "      <td>$2.91</td>\n",
       "      <td>$386.42</td>\n",
       "    </tr>\n",
       "    <tr>\n",
       "      <th>20 a 24</th>\n",
       "      <td>336</td>\n",
       "      <td>58.64%</td>\n",
       "      <td>$2.91</td>\n",
       "      <td>$978.77</td>\n",
       "    </tr>\n",
       "    <tr>\n",
       "      <th>25 a 29</th>\n",
       "      <td>125</td>\n",
       "      <td>21.82%</td>\n",
       "      <td>$2.96</td>\n",
       "      <td>$370.33</td>\n",
       "    </tr>\n",
       "    <tr>\n",
       "      <th>30 a 34</th>\n",
       "      <td>64</td>\n",
       "      <td>11.17%</td>\n",
       "      <td>$3.08</td>\n",
       "      <td>$197.25</td>\n",
       "    </tr>\n",
       "    <tr>\n",
       "      <th>35 a 39</th>\n",
       "      <td>42</td>\n",
       "      <td>7.33%</td>\n",
       "      <td>$2.84</td>\n",
       "      <td>$119.40</td>\n",
       "    </tr>\n",
       "    <tr>\n",
       "      <th>Mais de 40</th>\n",
       "      <td>17</td>\n",
       "      <td>2.97%</td>\n",
       "      <td>$3.16</td>\n",
       "      <td>$53.75</td>\n",
       "    </tr>\n",
       "  </tbody>\n",
       "</table>\n",
       "</div>"
      ],
      "text/plain": [
       "             Contagem       % Valor Unitario Valor Total de Compra\n",
       "Menos de 10        28   4.89%          $2.98                $83.46\n",
       "10 a 14            35   6.11%          $2.77                $96.95\n",
       "15 a 19           133  23.21%          $2.91               $386.42\n",
       "20 a 24           336  58.64%          $2.91               $978.77\n",
       "25 a 29           125  21.82%          $2.96               $370.33\n",
       "30 a 34            64  11.17%          $3.08               $197.25\n",
       "35 a 39            42   7.33%          $2.84               $119.40\n",
       "Mais de 40         17   2.97%          $3.16                $53.75"
      ]
     },
     "execution_count": 21,
     "metadata": {},
     "output_type": "execute_result"
    }
   ],
   "source": [
    "# Resultado\n",
    "age_demographics = age_demographics.sort_index()\n",
    "age_demographics"
   ]
  },
  {
   "cell_type": "markdown",
   "metadata": {},
   "source": [
    "## Top Spenders"
   ]
  },
  {
   "cell_type": "code",
   "execution_count": 22,
   "metadata": {},
   "outputs": [
    {
     "data": {
      "text/html": [
       "<div>\n",
       "<style scoped>\n",
       "    .dataframe tbody tr th:only-of-type {\n",
       "        vertical-align: middle;\n",
       "    }\n",
       "\n",
       "    .dataframe tbody tr th {\n",
       "        vertical-align: top;\n",
       "    }\n",
       "\n",
       "    .dataframe thead th {\n",
       "        text-align: right;\n",
       "    }\n",
       "</style>\n",
       "<table border=\"1\" class=\"dataframe\">\n",
       "  <thead>\n",
       "    <tr style=\"text-align: right;\">\n",
       "      <th></th>\n",
       "      <th>Valor Total de Compra</th>\n",
       "      <th>Valor Médio de Compra</th>\n",
       "      <th>Número de Compras</th>\n",
       "    </tr>\n",
       "    <tr>\n",
       "      <th>Login</th>\n",
       "      <th></th>\n",
       "      <th></th>\n",
       "      <th></th>\n",
       "    </tr>\n",
       "  </thead>\n",
       "  <tbody>\n",
       "    <tr>\n",
       "      <th>Qarwen67</th>\n",
       "      <td>$9.97</td>\n",
       "      <td>$2.49</td>\n",
       "      <td>4</td>\n",
       "    </tr>\n",
       "    <tr>\n",
       "      <th>Sondim43</th>\n",
       "      <td>$9.38</td>\n",
       "      <td>$3.13</td>\n",
       "      <td>3</td>\n",
       "    </tr>\n",
       "    <tr>\n",
       "      <th>Tillyrin30</th>\n",
       "      <td>$9.19</td>\n",
       "      <td>$3.06</td>\n",
       "      <td>3</td>\n",
       "    </tr>\n",
       "    <tr>\n",
       "      <th>Lisistaya47</th>\n",
       "      <td>$9.19</td>\n",
       "      <td>$3.06</td>\n",
       "      <td>3</td>\n",
       "    </tr>\n",
       "    <tr>\n",
       "      <th>Tyisriphos58</th>\n",
       "      <td>$9.18</td>\n",
       "      <td>$4.59</td>\n",
       "      <td>2</td>\n",
       "    </tr>\n",
       "  </tbody>\n",
       "</table>\n",
       "</div>"
      ],
      "text/plain": [
       "             Valor Total de Compra Valor Médio de Compra  Número de Compras\n",
       "Login                                                                      \n",
       "Qarwen67                     $9.97                 $2.49                  4\n",
       "Sondim43                     $9.38                 $3.13                  3\n",
       "Tillyrin30                   $9.19                 $3.06                  3\n",
       "Lisistaya47                  $9.19                 $3.06                  3\n",
       "Tyisriphos58                 $9.18                 $4.59                  2"
      ]
     },
     "execution_count": 22,
     "metadata": {},
     "output_type": "execute_result"
    }
   ],
   "source": [
    "# Cálculos básicos\n",
    "user_total = purchase_file.groupby([\"Login\"]).sum()[\"Valor\"].rename(\"Valor Total de Compra\")\n",
    "user_average = purchase_file.groupby([\"Login\"]).mean()[\"Valor\"].rename(\"Valor Médio de Compra\")\n",
    "user_count = purchase_file.groupby([\"Login\"]).count()[\"Valor\"].rename(\"Número de Compras\")\n",
    "\n",
    "# Dataframe para os resultados\n",
    "user_data = pd.DataFrame({\"Valor Total de Compra\": user_total, \"Valor Médio de Compra\": user_average, \"Número de Compras\": user_count})\n",
    "\n",
    "# Data Munging\n",
    "user_data [\"Valor Total de Compra\"] = user_data[\"Valor Total de Compra\"].map(\"${:,.2f}\".format)\n",
    "user_data [\"Valor Médio de Compra\"] = user_data[\"Valor Médio de Compra\"].map(\"${:,.2f}\".format)\n",
    "user_data.sort_values(\"Valor Total de Compra\", ascending=False).head(5)"
   ]
  },
  {
   "cell_type": "code",
   "execution_count": 23,
   "metadata": {},
   "outputs": [
    {
     "data": {
      "text/html": [
       "<div>\n",
       "<style scoped>\n",
       "    .dataframe tbody tr th:only-of-type {\n",
       "        vertical-align: middle;\n",
       "    }\n",
       "\n",
       "    .dataframe tbody tr th {\n",
       "        vertical-align: top;\n",
       "    }\n",
       "\n",
       "    .dataframe thead th {\n",
       "        text-align: right;\n",
       "    }\n",
       "</style>\n",
       "<table border=\"1\" class=\"dataframe\">\n",
       "  <thead>\n",
       "    <tr style=\"text-align: right;\">\n",
       "      <th></th>\n",
       "      <th>Valor Total de Compra</th>\n",
       "      <th>Valor Médio de Compra</th>\n",
       "      <th>Número de Compras</th>\n",
       "    </tr>\n",
       "    <tr>\n",
       "      <th>Login</th>\n",
       "      <th></th>\n",
       "      <th></th>\n",
       "      <th></th>\n",
       "    </tr>\n",
       "  </thead>\n",
       "  <tbody>\n",
       "    <tr>\n",
       "      <th>Adairialis76</th>\n",
       "      <td>$2.46</td>\n",
       "      <td>$2.46</td>\n",
       "      <td>1</td>\n",
       "    </tr>\n",
       "    <tr>\n",
       "      <th>Aduephos78</th>\n",
       "      <td>$6.70</td>\n",
       "      <td>$2.23</td>\n",
       "      <td>3</td>\n",
       "    </tr>\n",
       "    <tr>\n",
       "      <th>Aeduera68</th>\n",
       "      <td>$5.80</td>\n",
       "      <td>$1.93</td>\n",
       "      <td>3</td>\n",
       "    </tr>\n",
       "    <tr>\n",
       "      <th>Aela49</th>\n",
       "      <td>$2.46</td>\n",
       "      <td>$2.46</td>\n",
       "      <td>1</td>\n",
       "    </tr>\n",
       "    <tr>\n",
       "      <th>Aela59</th>\n",
       "      <td>$1.27</td>\n",
       "      <td>$1.27</td>\n",
       "      <td>1</td>\n",
       "    </tr>\n",
       "    <tr>\n",
       "      <th>...</th>\n",
       "      <td>...</td>\n",
       "      <td>...</td>\n",
       "      <td>...</td>\n",
       "    </tr>\n",
       "    <tr>\n",
       "      <th>Yasurra52</th>\n",
       "      <td>$3.14</td>\n",
       "      <td>$3.14</td>\n",
       "      <td>1</td>\n",
       "    </tr>\n",
       "    <tr>\n",
       "      <th>Yathecal72</th>\n",
       "      <td>$7.77</td>\n",
       "      <td>$3.88</td>\n",
       "      <td>2</td>\n",
       "    </tr>\n",
       "    <tr>\n",
       "      <th>Yathecal82</th>\n",
       "      <td>$2.41</td>\n",
       "      <td>$2.41</td>\n",
       "      <td>1</td>\n",
       "    </tr>\n",
       "    <tr>\n",
       "      <th>Zhisrisu83</th>\n",
       "      <td>$2.46</td>\n",
       "      <td>$1.23</td>\n",
       "      <td>2</td>\n",
       "    </tr>\n",
       "    <tr>\n",
       "      <th>Zontibe81</th>\n",
       "      <td>$3.71</td>\n",
       "      <td>$3.71</td>\n",
       "      <td>1</td>\n",
       "    </tr>\n",
       "  </tbody>\n",
       "</table>\n",
       "<p>573 rows × 3 columns</p>\n",
       "</div>"
      ],
      "text/plain": [
       "             Valor Total de Compra Valor Médio de Compra  Número de Compras\n",
       "Login                                                                      \n",
       "Adairialis76                 $2.46                 $2.46                  1\n",
       "Aduephos78                   $6.70                 $2.23                  3\n",
       "Aeduera68                    $5.80                 $1.93                  3\n",
       "Aela49                       $2.46                 $2.46                  1\n",
       "Aela59                       $1.27                 $1.27                  1\n",
       "...                            ...                   ...                ...\n",
       "Yasurra52                    $3.14                 $3.14                  1\n",
       "Yathecal72                   $7.77                 $3.88                  2\n",
       "Yathecal82                   $2.41                 $2.41                  1\n",
       "Zhisrisu83                   $2.46                 $1.23                  2\n",
       "Zontibe81                    $3.71                 $3.71                  1\n",
       "\n",
       "[573 rows x 3 columns]"
      ]
     },
     "execution_count": 23,
     "metadata": {},
     "output_type": "execute_result"
    }
   ],
   "source": [
    "# Resultado \n",
    "user_data"
   ]
  },
  {
   "cell_type": "markdown",
   "metadata": {},
   "source": [
    "## Itens Mais Populares"
   ]
  },
  {
   "cell_type": "code",
   "execution_count": 24,
   "metadata": {},
   "outputs": [
    {
     "data": {
      "text/html": [
       "<div>\n",
       "<style scoped>\n",
       "    .dataframe tbody tr th:only-of-type {\n",
       "        vertical-align: middle;\n",
       "    }\n",
       "\n",
       "    .dataframe tbody tr th {\n",
       "        vertical-align: top;\n",
       "    }\n",
       "\n",
       "    .dataframe thead th {\n",
       "        text-align: right;\n",
       "    }\n",
       "</style>\n",
       "<table border=\"1\" class=\"dataframe\">\n",
       "  <thead>\n",
       "    <tr style=\"text-align: right;\">\n",
       "      <th></th>\n",
       "      <th>Valor Total de Compra</th>\n",
       "      <th>Valor Médio de Compra</th>\n",
       "      <th>Número de Compras</th>\n",
       "    </tr>\n",
       "    <tr>\n",
       "      <th>Nome do Item</th>\n",
       "      <th></th>\n",
       "      <th></th>\n",
       "      <th></th>\n",
       "    </tr>\n",
       "  </thead>\n",
       "  <tbody>\n",
       "    <tr>\n",
       "      <th>Final Critic</th>\n",
       "      <td>$38.60</td>\n",
       "      <td>$2.76</td>\n",
       "      <td>14</td>\n",
       "    </tr>\n",
       "    <tr>\n",
       "      <th>Arcane Gem</th>\n",
       "      <td>$24.53</td>\n",
       "      <td>$2.23</td>\n",
       "      <td>11</td>\n",
       "    </tr>\n",
       "    <tr>\n",
       "      <th>Betrayal, Whisper of Grieving Widows</th>\n",
       "      <td>$25.85</td>\n",
       "      <td>$2.35</td>\n",
       "      <td>11</td>\n",
       "    </tr>\n",
       "    <tr>\n",
       "      <th>Stormcaller</th>\n",
       "      <td>$34.65</td>\n",
       "      <td>$3.46</td>\n",
       "      <td>10</td>\n",
       "    </tr>\n",
       "    <tr>\n",
       "      <th>Woeful Adamantite Claymore</th>\n",
       "      <td>$11.16</td>\n",
       "      <td>$1.24</td>\n",
       "      <td>9</td>\n",
       "    </tr>\n",
       "  </tbody>\n",
       "</table>\n",
       "</div>"
      ],
      "text/plain": [
       "                                     Valor Total de Compra  \\\n",
       "Nome do Item                                                 \n",
       "Final Critic                                        $38.60   \n",
       "Arcane Gem                                          $24.53   \n",
       "Betrayal, Whisper of Grieving Widows                $25.85   \n",
       "Stormcaller                                         $34.65   \n",
       "Woeful Adamantite Claymore                          $11.16   \n",
       "\n",
       "                                     Valor Médio de Compra  Número de Compras  \n",
       "Nome do Item                                                                   \n",
       "Final Critic                                         $2.76                 14  \n",
       "Arcane Gem                                           $2.23                 11  \n",
       "Betrayal, Whisper of Grieving Widows                 $2.35                 11  \n",
       "Stormcaller                                          $3.46                 10  \n",
       "Woeful Adamantite Claymore                           $1.24                  9  "
      ]
     },
     "execution_count": 24,
     "metadata": {},
     "output_type": "execute_result"
    }
   ],
   "source": [
    "# Cálculos básicos\n",
    "user_total = purchase_file.groupby([\"Nome do Item\"]).sum()[\"Valor\"].rename(\"Valor Total de Compra\")\n",
    "user_average = purchase_file.groupby([\"Nome do Item\"]).mean()[\"Valor\"].rename(\"Valor Médio de Compra\")\n",
    "user_count = purchase_file.groupby([\"Nome do Item\"]).count()[\"Valor\"].rename(\"Número de Compras\")\n",
    "\n",
    "# Dataframe para os resultados\n",
    "user_data = pd.DataFrame({\"Valor Total de Compra\": user_total, \"Valor Médio de Compra\": user_average, \"Número de Compras\": user_count})\n",
    "\n",
    "# Data Munging\n",
    "user_data [\"Valor Total de Compra\"] = user_data[\"Valor Total de Compra\"].map(\"${:,.2f}\".format)\n",
    "user_data [\"Valor Médio de Compra\"] = user_data[\"Valor Médio de Compra\"].map(\"${:,.2f}\".format)\n",
    "user_data.sort_values(\"Número de Compras\", ascending=False).head(5)"
   ]
  },
  {
   "cell_type": "code",
   "execution_count": 25,
   "metadata": {},
   "outputs": [
    {
     "data": {
      "text/html": [
       "<div>\n",
       "<style scoped>\n",
       "    .dataframe tbody tr th:only-of-type {\n",
       "        vertical-align: middle;\n",
       "    }\n",
       "\n",
       "    .dataframe tbody tr th {\n",
       "        vertical-align: top;\n",
       "    }\n",
       "\n",
       "    .dataframe thead th {\n",
       "        text-align: right;\n",
       "    }\n",
       "</style>\n",
       "<table border=\"1\" class=\"dataframe\">\n",
       "  <thead>\n",
       "    <tr style=\"text-align: right;\">\n",
       "      <th></th>\n",
       "      <th>Valor Total de Compra</th>\n",
       "      <th>Valor Médio de Compra</th>\n",
       "      <th>Número de Compras</th>\n",
       "    </tr>\n",
       "    <tr>\n",
       "      <th>Nome do Item</th>\n",
       "      <th></th>\n",
       "      <th></th>\n",
       "      <th></th>\n",
       "    </tr>\n",
       "  </thead>\n",
       "  <tbody>\n",
       "    <tr>\n",
       "      <th>Verdict</th>\n",
       "      <td>$3.40</td>\n",
       "      <td>$3.40</td>\n",
       "      <td>1</td>\n",
       "    </tr>\n",
       "    <tr>\n",
       "      <th>Exiled Mithril Longsword</th>\n",
       "      <td>$3.25</td>\n",
       "      <td>$3.25</td>\n",
       "      <td>1</td>\n",
       "    </tr>\n",
       "    <tr>\n",
       "      <th>Sun Strike, Jaws of Twisted Visions</th>\n",
       "      <td>$2.64</td>\n",
       "      <td>$2.64</td>\n",
       "      <td>1</td>\n",
       "    </tr>\n",
       "    <tr>\n",
       "      <th>Exiled Doomblade</th>\n",
       "      <td>$1.92</td>\n",
       "      <td>$1.92</td>\n",
       "      <td>1</td>\n",
       "    </tr>\n",
       "    <tr>\n",
       "      <th>Foul Edge</th>\n",
       "      <td>$2.38</td>\n",
       "      <td>$2.38</td>\n",
       "      <td>1</td>\n",
       "    </tr>\n",
       "  </tbody>\n",
       "</table>\n",
       "</div>"
      ],
      "text/plain": [
       "                                    Valor Total de Compra  \\\n",
       "Nome do Item                                                \n",
       "Verdict                                             $3.40   \n",
       "Exiled Mithril Longsword                            $3.25   \n",
       "Sun Strike, Jaws of Twisted Visions                 $2.64   \n",
       "Exiled Doomblade                                    $1.92   \n",
       "Foul Edge                                           $2.38   \n",
       "\n",
       "                                    Valor Médio de Compra  Número de Compras  \n",
       "Nome do Item                                                                  \n",
       "Verdict                                             $3.40                  1  \n",
       "Exiled Mithril Longsword                            $3.25                  1  \n",
       "Sun Strike, Jaws of Twisted Visions                 $2.64                  1  \n",
       "Exiled Doomblade                                    $1.92                  1  \n",
       "Foul Edge                                           $2.38                  1  "
      ]
     },
     "execution_count": 25,
     "metadata": {},
     "output_type": "execute_result"
    }
   ],
   "source": [
    "# Verificando itens menos vendidos\n",
    "user_data.sort_values(\"Número de Compras\", ascending=False).tail(5)"
   ]
  },
  {
   "cell_type": "markdown",
   "metadata": {},
   "source": [
    "## Itens Mais Lucrativos"
   ]
  },
  {
   "cell_type": "code",
   "execution_count": 26,
   "metadata": {},
   "outputs": [
    {
     "data": {
      "text/html": [
       "<div>\n",
       "<style scoped>\n",
       "    .dataframe tbody tr th:only-of-type {\n",
       "        vertical-align: middle;\n",
       "    }\n",
       "\n",
       "    .dataframe tbody tr th {\n",
       "        vertical-align: top;\n",
       "    }\n",
       "\n",
       "    .dataframe thead th {\n",
       "        text-align: right;\n",
       "    }\n",
       "</style>\n",
       "<table border=\"1\" class=\"dataframe\">\n",
       "  <thead>\n",
       "    <tr style=\"text-align: right;\">\n",
       "      <th></th>\n",
       "      <th>Valor Total de Compra</th>\n",
       "      <th>Valor Médio de Compra</th>\n",
       "      <th>Número de Compras</th>\n",
       "    </tr>\n",
       "    <tr>\n",
       "      <th>Nome do Item</th>\n",
       "      <th></th>\n",
       "      <th></th>\n",
       "      <th></th>\n",
       "    </tr>\n",
       "  </thead>\n",
       "  <tbody>\n",
       "    <tr>\n",
       "      <th>Final Critic</th>\n",
       "      <td>$38.60</td>\n",
       "      <td>$2.76</td>\n",
       "      <td>14</td>\n",
       "    </tr>\n",
       "    <tr>\n",
       "      <th>Retribution Axe</th>\n",
       "      <td>$37.26</td>\n",
       "      <td>$4.14</td>\n",
       "      <td>9</td>\n",
       "    </tr>\n",
       "    <tr>\n",
       "      <th>Stormcaller</th>\n",
       "      <td>$34.65</td>\n",
       "      <td>$3.46</td>\n",
       "      <td>10</td>\n",
       "    </tr>\n",
       "    <tr>\n",
       "      <th>Spectral Diamond Doomblade</th>\n",
       "      <td>$29.75</td>\n",
       "      <td>$4.25</td>\n",
       "      <td>7</td>\n",
       "    </tr>\n",
       "    <tr>\n",
       "      <th>Orenmir</th>\n",
       "      <td>$29.70</td>\n",
       "      <td>$4.95</td>\n",
       "      <td>6</td>\n",
       "    </tr>\n",
       "  </tbody>\n",
       "</table>\n",
       "</div>"
      ],
      "text/plain": [
       "                           Valor Total de Compra Valor Médio de Compra  \\\n",
       "Nome do Item                                                             \n",
       "Final Critic                              $38.60                 $2.76   \n",
       "Retribution Axe                           $37.26                 $4.14   \n",
       "Stormcaller                               $34.65                 $3.46   \n",
       "Spectral Diamond Doomblade                $29.75                 $4.25   \n",
       "Orenmir                                   $29.70                 $4.95   \n",
       "\n",
       "                            Número de Compras  \n",
       "Nome do Item                                   \n",
       "Final Critic                               14  \n",
       "Retribution Axe                             9  \n",
       "Stormcaller                                10  \n",
       "Spectral Diamond Doomblade                  7  \n",
       "Orenmir                                     6  "
      ]
     },
     "metadata": {},
     "output_type": "display_data"
    }
   ],
   "source": [
    "# Cálculos básicos\n",
    "user_total = purchase_file.groupby([\"Nome do Item\"]).sum()[\"Valor\"].rename(\"Valor Total de Compra\")\n",
    "user_average = purchase_file.groupby([\"Nome do Item\"]).mean()[\"Valor\"].rename(\"Valor Médio de Compra\")\n",
    "user_count = purchase_file.groupby([\"Nome do Item\"]).count()[\"Valor\"].rename(\"Número de Compras\")\n",
    "\n",
    "# Dataframe para os resultados\n",
    "user_data = pd.DataFrame({\"Valor Total de Compra\": user_total, \"Valor Médio de Compra\": user_average, \\\n",
    "                          \"Número de Compras\": user_count})\n",
    "\n",
    "# Data Munging\n",
    "user_data [\"Valor Total Compra\"] = user_data[\"Valor Total de Compra\"]\n",
    "user_data [\"Valor Total de Compra\"] = user_data[\"Valor Total de Compra\"].map(\"${:,.2f}\".format)\n",
    "user_data [\"Valor Médio de Compra\"] = user_data[\"Valor Médio de Compra\"].map(\"${:,.2f}\".format)\n",
    "\n",
    "\n",
    "display(user_data.sort_values(\"Valor Total Compra\", ascending=False).head(5)[ \\\n",
    "    ['Valor Total de Compra','Valor Médio de Compra','Número de Compras']])"
   ]
  },
  {
   "cell_type": "code",
   "execution_count": 27,
   "metadata": {},
   "outputs": [
    {
     "data": {
      "text/html": [
       "<div>\n",
       "<style scoped>\n",
       "    .dataframe tbody tr th:only-of-type {\n",
       "        vertical-align: middle;\n",
       "    }\n",
       "\n",
       "    .dataframe tbody tr th {\n",
       "        vertical-align: top;\n",
       "    }\n",
       "\n",
       "    .dataframe thead th {\n",
       "        text-align: right;\n",
       "    }\n",
       "</style>\n",
       "<table border=\"1\" class=\"dataframe\">\n",
       "  <thead>\n",
       "    <tr style=\"text-align: right;\">\n",
       "      <th></th>\n",
       "      <th>Valor Total de Compra</th>\n",
       "      <th>Valor Médio de Compra</th>\n",
       "      <th>Número de Compras</th>\n",
       "    </tr>\n",
       "    <tr>\n",
       "      <th>Nome do Item</th>\n",
       "      <th></th>\n",
       "      <th></th>\n",
       "      <th></th>\n",
       "    </tr>\n",
       "  </thead>\n",
       "  <tbody>\n",
       "    <tr>\n",
       "      <th>Exiled Doomblade</th>\n",
       "      <td>$1.92</td>\n",
       "      <td>$1.92</td>\n",
       "      <td>1</td>\n",
       "    </tr>\n",
       "    <tr>\n",
       "      <th>Splinter</th>\n",
       "      <td>$1.82</td>\n",
       "      <td>$1.82</td>\n",
       "      <td>1</td>\n",
       "    </tr>\n",
       "    <tr>\n",
       "      <th>Phantomlight</th>\n",
       "      <td>$1.79</td>\n",
       "      <td>$1.79</td>\n",
       "      <td>1</td>\n",
       "    </tr>\n",
       "    <tr>\n",
       "      <th>Lightning, Etcher of the King</th>\n",
       "      <td>$1.65</td>\n",
       "      <td>$1.65</td>\n",
       "      <td>1</td>\n",
       "    </tr>\n",
       "    <tr>\n",
       "      <th>Soul-Forged Steel Shortsword</th>\n",
       "      <td>$1.16</td>\n",
       "      <td>$1.16</td>\n",
       "      <td>1</td>\n",
       "    </tr>\n",
       "  </tbody>\n",
       "</table>\n",
       "</div>"
      ],
      "text/plain": [
       "                              Valor Total de Compra Valor Médio de Compra  \\\n",
       "Nome do Item                                                                \n",
       "Exiled Doomblade                              $1.92                 $1.92   \n",
       "Splinter                                      $1.82                 $1.82   \n",
       "Phantomlight                                  $1.79                 $1.79   \n",
       "Lightning, Etcher of the King                 $1.65                 $1.65   \n",
       "Soul-Forged Steel Shortsword                  $1.16                 $1.16   \n",
       "\n",
       "                               Número de Compras  \n",
       "Nome do Item                                      \n",
       "Exiled Doomblade                               1  \n",
       "Splinter                                       1  \n",
       "Phantomlight                                   1  \n",
       "Lightning, Etcher of the King                  1  \n",
       "Soul-Forged Steel Shortsword                   1  "
      ]
     },
     "metadata": {},
     "output_type": "display_data"
    }
   ],
   "source": [
    "# Verificando itens menos lucrativos\n",
    "display(user_data.sort_values(\"Valor Total Compra\", ascending=False).tail(5)[ \\\n",
    "    ['Valor Total de Compra','Valor Médio de Compra','Número de Compras']])"
   ]
  },
  {
   "cell_type": "markdown",
   "metadata": {
    "collapsed": true
   },
   "source": [
    "# Conclusão"
   ]
  },
  {
   "cell_type": "markdown",
   "metadata": {},
   "source": [
    " Com os dados do Web Site em questao, tem a possibilidade de se colher diversos insights, entre eles, foi possivel analisar que o maior publico deste site é de sexo masculino (81,2% do publico pagante), e isso se reflete tambem como o genero que mais tem gasto com os protudos disponiveis. Produtos como Final Critic, Arcane Gem e Betrayal, Whisper of Grieving Widows, lideram como produtos mais vendidos, todavia, com exceção do Final Critic, os produtos mais vendidos nao refletem como os mais lucrativos do site, estes, por sua vez, se encontram os itens: Final Critic, Retribution Axe e Stormcaller.\n",
    " A analise sugere duas frentes para a próxima campanha, a primeira campanha, uma voltada a Capitação de um Novo publico, talvez, campanhas de Marketing voltadas ao publico feminino, e ainda apresentando produtos que pouco foram vendidos como por exemplo: Soul-Forged Steel Shortsword, Lightning, Etcher of the King ou Phantomlight, e muitos outros produtos que so tiveram uma venda.\n",
    " Outra frente de campanha ideal para o site, seria para fidelizar seus atuais clientes, oferecendo promoções aos clientes que mais gastam, e descontos a partir de uma compra atingindo um valor pré fixado, ou com um numero X de itens comprados pelo mesmo.\n",
    " Atendendo estes passos, o Site sem duvidas aumentara sua rentabilidade, pois além de atender proporcionar o interesse de um novo publico, fidelizará o publico que já possui. "
   ]
  }
 ],
 "metadata": {
  "kernelspec": {
   "display_name": "Python 3",
   "language": "python",
   "name": "python3"
  },
  "language_info": {
   "codemirror_mode": {
    "name": "ipython",
    "version": 3
   },
   "file_extension": ".py",
   "mimetype": "text/x-python",
   "name": "python",
   "nbconvert_exporter": "python",
   "pygments_lexer": "ipython3",
   "version": "3.7.6"
  }
 },
 "nbformat": 4,
 "nbformat_minor": 2
}
