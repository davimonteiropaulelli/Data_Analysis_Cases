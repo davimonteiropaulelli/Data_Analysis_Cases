{
 "cells": [
  {
   "cell_type": "markdown",
   "metadata": {},
   "source": [
    "# Exercicio Distribuição de Frequência\n",
    "\n",
    "O objetivo desta tarefa é aplicar a distribuição de frequência utilizando o atributo age da base de dados do censo\n",
    "\n",
    "Carregue a base de dados census.csv\n",
    "\n",
    "Faça testes utilizando o parâmetro bins para visualizar a distribuição dos dados\n",
    "\n",
    "Bom trabalho!\n",
    "\n",
    "# Importacao de arquivos"
   ]
  },
  {
   "cell_type": "code",
   "execution_count": 1,
   "metadata": {},
   "outputs": [],
   "source": [
    "import numpy as np\n",
    "import pandas as pd\n",
    "import seaborn as sns\n",
    "import matplotlib.pyplot as plt\n",
    "%matplotlib inline"
   ]
  },
  {
   "cell_type": "markdown",
   "metadata": {},
   "source": [
    "# Resolucao do exercicio"
   ]
  },
  {
   "cell_type": "code",
   "execution_count": 2,
   "metadata": {},
   "outputs": [
    {
     "data": {
      "text/html": [
       "<div>\n",
       "<style scoped>\n",
       "    .dataframe tbody tr th:only-of-type {\n",
       "        vertical-align: middle;\n",
       "    }\n",
       "\n",
       "    .dataframe tbody tr th {\n",
       "        vertical-align: top;\n",
       "    }\n",
       "\n",
       "    .dataframe thead th {\n",
       "        text-align: right;\n",
       "    }\n",
       "</style>\n",
       "<table border=\"1\" class=\"dataframe\">\n",
       "  <thead>\n",
       "    <tr style=\"text-align: right;\">\n",
       "      <th></th>\n",
       "      <th>age</th>\n",
       "      <th>workclass</th>\n",
       "      <th>final-weight</th>\n",
       "      <th>education</th>\n",
       "      <th>education-num</th>\n",
       "      <th>marital-status</th>\n",
       "      <th>occupation</th>\n",
       "      <th>relationship</th>\n",
       "      <th>race</th>\n",
       "      <th>sex</th>\n",
       "      <th>capital-gain</th>\n",
       "      <th>capital-loos</th>\n",
       "      <th>hour-per-week</th>\n",
       "      <th>native-country</th>\n",
       "      <th>income</th>\n",
       "    </tr>\n",
       "  </thead>\n",
       "  <tbody>\n",
       "    <tr>\n",
       "      <th>0</th>\n",
       "      <td>39</td>\n",
       "      <td>State-gov</td>\n",
       "      <td>77516</td>\n",
       "      <td>Bachelors</td>\n",
       "      <td>13</td>\n",
       "      <td>Never-married</td>\n",
       "      <td>Adm-clerical</td>\n",
       "      <td>Not-in-family</td>\n",
       "      <td>White</td>\n",
       "      <td>Male</td>\n",
       "      <td>2174</td>\n",
       "      <td>0</td>\n",
       "      <td>40</td>\n",
       "      <td>United-States</td>\n",
       "      <td>&lt;=50K</td>\n",
       "    </tr>\n",
       "    <tr>\n",
       "      <th>1</th>\n",
       "      <td>50</td>\n",
       "      <td>Self-emp-not-inc</td>\n",
       "      <td>83311</td>\n",
       "      <td>Bachelors</td>\n",
       "      <td>13</td>\n",
       "      <td>Married-civ-spouse</td>\n",
       "      <td>Exec-managerial</td>\n",
       "      <td>Husband</td>\n",
       "      <td>White</td>\n",
       "      <td>Male</td>\n",
       "      <td>0</td>\n",
       "      <td>0</td>\n",
       "      <td>13</td>\n",
       "      <td>United-States</td>\n",
       "      <td>&lt;=50K</td>\n",
       "    </tr>\n",
       "    <tr>\n",
       "      <th>2</th>\n",
       "      <td>38</td>\n",
       "      <td>Private</td>\n",
       "      <td>215646</td>\n",
       "      <td>HS-grad</td>\n",
       "      <td>9</td>\n",
       "      <td>Divorced</td>\n",
       "      <td>Handlers-cleaners</td>\n",
       "      <td>Not-in-family</td>\n",
       "      <td>White</td>\n",
       "      <td>Male</td>\n",
       "      <td>0</td>\n",
       "      <td>0</td>\n",
       "      <td>40</td>\n",
       "      <td>United-States</td>\n",
       "      <td>&lt;=50K</td>\n",
       "    </tr>\n",
       "    <tr>\n",
       "      <th>3</th>\n",
       "      <td>53</td>\n",
       "      <td>Private</td>\n",
       "      <td>234721</td>\n",
       "      <td>11th</td>\n",
       "      <td>7</td>\n",
       "      <td>Married-civ-spouse</td>\n",
       "      <td>Handlers-cleaners</td>\n",
       "      <td>Husband</td>\n",
       "      <td>Black</td>\n",
       "      <td>Male</td>\n",
       "      <td>0</td>\n",
       "      <td>0</td>\n",
       "      <td>40</td>\n",
       "      <td>United-States</td>\n",
       "      <td>&lt;=50K</td>\n",
       "    </tr>\n",
       "    <tr>\n",
       "      <th>4</th>\n",
       "      <td>28</td>\n",
       "      <td>Private</td>\n",
       "      <td>338409</td>\n",
       "      <td>Bachelors</td>\n",
       "      <td>13</td>\n",
       "      <td>Married-civ-spouse</td>\n",
       "      <td>Prof-specialty</td>\n",
       "      <td>Wife</td>\n",
       "      <td>Black</td>\n",
       "      <td>Female</td>\n",
       "      <td>0</td>\n",
       "      <td>0</td>\n",
       "      <td>40</td>\n",
       "      <td>Cuba</td>\n",
       "      <td>&lt;=50K</td>\n",
       "    </tr>\n",
       "    <tr>\n",
       "      <th>5</th>\n",
       "      <td>37</td>\n",
       "      <td>Private</td>\n",
       "      <td>284582</td>\n",
       "      <td>Masters</td>\n",
       "      <td>14</td>\n",
       "      <td>Married-civ-spouse</td>\n",
       "      <td>Exec-managerial</td>\n",
       "      <td>Wife</td>\n",
       "      <td>White</td>\n",
       "      <td>Female</td>\n",
       "      <td>0</td>\n",
       "      <td>0</td>\n",
       "      <td>40</td>\n",
       "      <td>United-States</td>\n",
       "      <td>&lt;=50K</td>\n",
       "    </tr>\n",
       "    <tr>\n",
       "      <th>6</th>\n",
       "      <td>49</td>\n",
       "      <td>Private</td>\n",
       "      <td>160187</td>\n",
       "      <td>9th</td>\n",
       "      <td>5</td>\n",
       "      <td>Married-spouse-absent</td>\n",
       "      <td>Other-service</td>\n",
       "      <td>Not-in-family</td>\n",
       "      <td>Black</td>\n",
       "      <td>Female</td>\n",
       "      <td>0</td>\n",
       "      <td>0</td>\n",
       "      <td>16</td>\n",
       "      <td>Jamaica</td>\n",
       "      <td>&lt;=50K</td>\n",
       "    </tr>\n",
       "  </tbody>\n",
       "</table>\n",
       "</div>"
      ],
      "text/plain": [
       "   age          workclass  final-weight   education  education-num  \\\n",
       "0   39          State-gov         77516   Bachelors             13   \n",
       "1   50   Self-emp-not-inc         83311   Bachelors             13   \n",
       "2   38            Private        215646     HS-grad              9   \n",
       "3   53            Private        234721        11th              7   \n",
       "4   28            Private        338409   Bachelors             13   \n",
       "5   37            Private        284582     Masters             14   \n",
       "6   49            Private        160187         9th              5   \n",
       "\n",
       "           marital-status          occupation    relationship    race  \\\n",
       "0           Never-married        Adm-clerical   Not-in-family   White   \n",
       "1      Married-civ-spouse     Exec-managerial         Husband   White   \n",
       "2                Divorced   Handlers-cleaners   Not-in-family   White   \n",
       "3      Married-civ-spouse   Handlers-cleaners         Husband   Black   \n",
       "4      Married-civ-spouse      Prof-specialty            Wife   Black   \n",
       "5      Married-civ-spouse     Exec-managerial            Wife   White   \n",
       "6   Married-spouse-absent       Other-service   Not-in-family   Black   \n",
       "\n",
       "       sex  capital-gain  capital-loos  hour-per-week  native-country  income  \n",
       "0     Male          2174             0             40   United-States   <=50K  \n",
       "1     Male             0             0             13   United-States   <=50K  \n",
       "2     Male             0             0             40   United-States   <=50K  \n",
       "3     Male             0             0             40   United-States   <=50K  \n",
       "4   Female             0             0             40            Cuba   <=50K  \n",
       "5   Female             0             0             40   United-States   <=50K  \n",
       "6   Female             0             0             16         Jamaica   <=50K  "
      ]
     },
     "execution_count": 2,
     "metadata": {},
     "output_type": "execute_result"
    }
   ],
   "source": [
    "df = pd.read_csv('census.csv')\n",
    "age = np.array(df['age'])\n",
    "df.head(7)"
   ]
  },
  {
   "cell_type": "markdown",
   "metadata": {},
   "source": [
    "# Utilizando as Bibliotecas"
   ]
  },
  {
   "cell_type": "code",
   "execution_count": 3,
   "metadata": {},
   "outputs": [
    {
     "data": {
      "image/png": "[encoded data removed]",
      "text/plain": [
       "<Figure size 432x288 with 1 Axes>"
      ]
     },
     "metadata": {
      "needs_background": "light"
     },
     "output_type": "display_data"
    }
   ],
   "source": [
    "plt.hist(age)\n",
    "plt.title('Histograma',size=15)\n",
    "plt.xlabel('Frequencia')\n",
    "plt.ylabel('Idade')\n",
    "plt.show()"
   ]
  },
  {
   "cell_type": "code",
   "execution_count": 4,
   "metadata": {},
   "outputs": [
    {
     "data": {
      "image/png": "[encoded data removed]",
      "text/plain": [
       "<Figure size 432x288 with 1 Axes>"
      ]
     },
     "metadata": {
      "needs_background": "light"
     },
     "output_type": "display_data"
    }
   ],
   "source": [
    "plt.hist(age,bins = 20)\n",
    "plt.title('Histograma com mais classes',size=15)\n",
    "plt.show()"
   ]
  },
  {
   "cell_type": "code",
   "execution_count": 5,
   "metadata": {},
   "outputs": [
    {
     "data": {
      "image/png": "[encoded data removed]",
      "text/plain": [
       "<Figure size 720x360 with 1 Axes>"
      ]
     },
     "metadata": {
      "needs_background": "light"
     },
     "output_type": "display_data"
    }
   ],
   "source": [
    "# Separando por faixa de idade\n",
    "age = pd.cut(age,bins=[0,17,25,40,60,90],labels=['Jovens','Adulta 1','Adulta 2','Idoso 1','Idoso 2'])\n",
    "# Realizando plot\n",
    "plt.figure(figsize=(10,5))\n",
    "plt.hist(age,bins=10)\n",
    "plt.title('Histograma Separado por Classe de Idade',size=21)\n",
    "plt.show()"
   ]
  },
  {
   "cell_type": "markdown",
   "metadata": {},
   "source": [
    "# De forma manual"
   ]
  },
  {
   "cell_type": "code",
   "execution_count": 6,
   "metadata": {},
   "outputs": [
    {
     "data": {
      "text/plain": [
       "array([39, 50, 38, ..., 58, 22, 52])"
      ]
     },
     "execution_count": 6,
     "metadata": {},
     "output_type": "execute_result"
    }
   ],
   "source": [
    "# Criando\n",
    "age = np.array(df['age'])\n",
    "age"
   ]
  },
  {
   "cell_type": "code",
   "execution_count": 7,
   "metadata": {},
   "outputs": [
    {
     "data": {
      "text/plain": [
       "array([17, 17, 17, ..., 90, 90, 90])"
      ]
     },
     "execution_count": 7,
     "metadata": {},
     "output_type": "execute_result"
    }
   ],
   "source": [
    "# Ordenando\n",
    "age = np.sort(age)\n",
    "age"
   ]
  },
  {
   "cell_type": "code",
   "execution_count": 8,
   "metadata": {},
   "outputs": [
    {
     "data": {
      "text/plain": [
       "(array([17, 18, 19, 20, 21, 22, 23, 24, 25, 26, 27, 28, 29, 30, 31, 32, 33,\n",
       "        34, 35, 36, 37, 38, 39, 40, 41, 42, 43, 44, 45, 46, 47, 48, 49, 50,\n",
       "        51, 52, 53, 54, 55, 56, 57, 58, 59, 60, 61, 62, 63, 64, 65, 66, 67,\n",
       "        68, 69, 70, 71, 72, 73, 74, 75, 76, 77, 78, 79, 80, 81, 82, 83, 84,\n",
       "        85, 86, 87, 88, 90]),\n",
       " array([395, 550, 712, 753, 720, 765, 877, 798, 841, 785, 835, 867, 813,\n",
       "        861, 888, 828, 875, 886, 876, 898, 858, 827, 816, 794, 808, 780,\n",
       "        770, 724, 734, 737, 708, 543, 577, 602, 595, 478, 464, 415, 419,\n",
       "        366, 358, 366, 355, 312, 300, 258, 230, 208, 178, 150, 151, 120,\n",
       "        108,  89,  72,  67,  64,  51,  45,  46,  29,  23,  22,  22,  20,\n",
       "         12,   6,  10,   3,   1,   1,   3,  43]))"
      ]
     },
     "execution_count": 8,
     "metadata": {},
     "output_type": "execute_result"
    }
   ],
   "source": [
    "# Explorando\n",
    "np.unique(age, return_counts=True)"
   ]
  },
  {
   "cell_type": "code",
   "execution_count": 9,
   "metadata": {},
   "outputs": [
    {
     "data": {
      "text/plain": [
       "16.0"
      ]
     },
     "execution_count": 9,
     "metadata": {},
     "output_type": "execute_result"
    }
   ],
   "source": [
    "# Numero de classes\n",
    "# i = 1 + 3.3 log n\n",
    "i = round(1 + 3.3 * np.log10(len(age)))\n",
    "i"
   ]
  },
  {
   "cell_type": "code",
   "execution_count": 10,
   "metadata": {},
   "outputs": [
    {
     "data": {
      "text/plain": [
       "5.0"
      ]
     },
     "execution_count": 10,
     "metadata": {},
     "output_type": "execute_result"
    }
   ],
   "source": [
    "# Amplitude do intervalo\n",
    "#   h = AA / i\n",
    "#   AA = Xmax - Xmin\n",
    "\n",
    "AA = np.max(age) - np.min(age)\n",
    "\n",
    "h = round(AA / i)\n",
    "h"
   ]
  },
  {
   "cell_type": "code",
   "execution_count": 11,
   "metadata": {},
   "outputs": [
    {
     "data": {
      "text/plain": [
       "array([17, 22, 27, 32, 37, 42, 47, 52, 57, 62, 67, 72, 77, 82, 87, 92])"
      ]
     },
     "execution_count": 11,
     "metadata": {},
     "output_type": "execute_result"
    }
   ],
   "source": [
    "intervalos = np.arange(int(np.min(age)), int(np.max(age)+ 3) , step = h)\n",
    "intervalos_2 = []\n",
    "for i in intervalos:\n",
    "    i = int(i)\n",
    "    intervalos_2.append(i)\n",
    "intervalos_2 = np.array(intervalos_2)\n",
    "intervalos_2"
   ]
  },
  {
   "cell_type": "code",
   "execution_count": 12,
   "metadata": {},
   "outputs": [
    {
     "data": {
      "text/plain": [
       "[3130,\n",
       " 4066,\n",
       " 4264,\n",
       " 4363,\n",
       " 4103,\n",
       " 3745,\n",
       " 3025,\n",
       " 2142,\n",
       " 1691,\n",
       " 1024,\n",
       " 540,\n",
       " 273,\n",
       " 116,\n",
       " 32,\n",
       " 47,\n",
       " 0]"
      ]
     },
     "execution_count": 12,
     "metadata": {},
     "output_type": "execute_result"
    }
   ],
   "source": [
    "# Criando Lista dos Intervalos\n",
    "lista_intervalos = []\n",
    "\n",
    "# Adicionando os itens a lista\n",
    "n = len(age)\n",
    "inter1, inter2, inter3, inter4, inter5, inter6, inter7, inter8, inter9, inter10, inter11, inter12, inter13, inter14, inter15, inter16 = 0,0,0,0,0,0,0,0,0,0,0,0,0,0,0,0\n",
    "for i in range(n):\n",
    "    if age[i] >= intervalos_2[0] and age[i] < intervalos_2[1]:\n",
    "        inter1 += 1\n",
    "    elif age[i] >= intervalos_2[1] and age[i] < intervalos_2[2]:\n",
    "        inter2 += 1\n",
    "    elif age[i] >= intervalos_2[2] and age[i] < intervalos_2[3]:\n",
    "        inter3 += 1\n",
    "    elif age[i] >= intervalos_2[3] and age[i] < intervalos_2[4]:\n",
    "        inter4 += 1\n",
    "    elif age[i] >= intervalos_2[4] and age[i] < intervalos_2[5]:\n",
    "        inter5 += 1\n",
    "    elif age[i] >= intervalos_2[5] and age[i] < intervalos_2[6]:\n",
    "        inter6 += 1\n",
    "    elif age[i] >= intervalos_2[6] and age[i] < intervalos_2[7]:\n",
    "        inter7 += 1\n",
    "    elif age[i] >= intervalos_2[7] and age[i] < intervalos_2[8]:\n",
    "        inter8 += 1\n",
    "    elif age[i] >= intervalos_2[8] and age[i] < intervalos_2[9]:\n",
    "        inter9 += 1\n",
    "    elif age[i] >= intervalos_2[9] and age[i] < intervalos_2[10]:\n",
    "        inter10 += 1\n",
    "    elif age[i] >= intervalos_2[10] and age[i] < intervalos_2[11]:\n",
    "        inter11 += 1\n",
    "    elif age[i] >= intervalos_2[11] and age[i] < intervalos_2[12]:\n",
    "        inter12 += 1\n",
    "    elif age[i] >= intervalos_2[12] and age[i] < intervalos_2[13]:\n",
    "        inter13 += 1\n",
    "    elif age[i] >= intervalos_2[13] and age[i] < intervalos_2[14]:\n",
    "        inter14 += 1\n",
    "    elif age[i] >= intervalos_2[14] and age[i] < intervalos_2[15]:\n",
    "        inter15 += 1\n",
    "    elif age[i] >= intervalos_2[15] and age[i] < intervalos_2[16]:\n",
    "        inter16 += 1\n",
    "        \n",
    "lista_intervalos.append(inter1)\n",
    "lista_intervalos.append(inter2)\n",
    "lista_intervalos.append(inter3)\n",
    "lista_intervalos.append(inter4)\n",
    "lista_intervalos.append(inter5)\n",
    "lista_intervalos.append(inter6)\n",
    "lista_intervalos.append(inter7)\n",
    "lista_intervalos.append(inter8)\n",
    "lista_intervalos.append(inter9)\n",
    "lista_intervalos.append(inter10)\n",
    "lista_intervalos.append(inter11)\n",
    "lista_intervalos.append(inter12)\n",
    "lista_intervalos.append(inter13)\n",
    "lista_intervalos.append(inter14)\n",
    "lista_intervalos.append(inter15)\n",
    "lista_intervalos.append(inter16)\n",
    "\n",
    "lista_intervalos"
   ]
  },
  {
   "cell_type": "code",
   "execution_count": 13,
   "metadata": {},
   "outputs": [
    {
     "data": {
      "text/plain": [
       "['17-22',\n",
       " '22-27',\n",
       " '27-32',\n",
       " '32-37',\n",
       " '37-42',\n",
       " '42-47',\n",
       " '47-52',\n",
       " '52-57',\n",
       " '57-62',\n",
       " '62-67',\n",
       " '67-72',\n",
       " '72-77',\n",
       " '77-82',\n",
       " '82-87',\n",
       " '87-92']"
      ]
     },
     "execution_count": 13,
     "metadata": {},
     "output_type": "execute_result"
    }
   ],
   "source": [
    "# Criando Lista de Classes\n",
    "lista_classes = []\n",
    "for i in range(len(lista_intervalos)-1):\n",
    "    lista_classes.append(str(intervalos_2[i]) + '-' + str(intervalos_2[i + 1]))\n",
    "lista_classes"
   ]
  },
  {
   "cell_type": "code",
   "execution_count": 14,
   "metadata": {},
   "outputs": [
    {
     "data": {
      "image/png": "[encoded data removed]",
      "text/plain": [
       "<Figure size 432x288 with 1 Axes>"
      ]
     },
     "metadata": {
      "needs_background": "light"
     },
     "output_type": "display_data"
    }
   ],
   "source": [
    "plt.bar(lista_classes, lista_intervalos)\n",
    "plt.title('Distribuição de frequência - histograma',size=15)\n",
    "plt.xlabel('intervalos')\n",
    "plt.ylabel('valores')\n",
    "plt.show()"
   ]
  }
 ],
 "metadata": {
  "kernelspec": {
   "display_name": "Python 3",
   "language": "python",
   "name": "python3"
  },
  "language_info": {
   "codemirror_mode": {
    "name": "ipython",
    "version": 3
   },
   "file_extension": ".py",
   "mimetype": "text/x-python",
   "name": "python",
   "nbconvert_exporter": "python",
   "pygments_lexer": "ipython3",
   "version": "3.7.6"
  }
 },
 "nbformat": 4,
 "nbformat_minor": 4
}
